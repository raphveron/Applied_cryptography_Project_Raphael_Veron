{
  "cells": [
    {
      "cell_type": "markdown",
      "metadata": {
        "id": "WnH4UZPre-lN"
      },
      "source": [
        "#Exercice 1\n"
      ]
    },
    {
      "cell_type": "markdown",
      "metadata": {
        "id": "fTnSHe3sfF1-"
      },
      "source": [
        "## Première partie"
      ]
    },
    {
      "cell_type": "code",
      "execution_count": null,
      "metadata": {
        "colab": {
          "base_uri": "https://localhost:8080/"
        },
        "id": "ouGl3-m7fQfW",
        "outputId": "f3db6a9e-3fff-42fe-c0fb-56acc1c68440"
      },
      "outputs": [
        {
          "name": "stdout",
          "output_type": "stream",
          "text": [
            "Chaîne trouvée: RaphaelVeron56057 -> be3562e5164e07265a8c279dd98f185e026618fb3535ee58c895b92b0f600000\n"
          ]
        }
      ],
      "source": [
        "import hashlib\n",
        "\n",
        "def find_string_with_sha256_ending_zeros(names, target_zeros=5):\n",
        "    \"\"\"\n",
        "    Trouve une chaîne de caractères contenant les noms donnés qui, hashée avec SHA-256,\n",
        "    se termine par un nombre spécifié de zéros en hexadécimal.\n",
        "    \"\"\"\n",
        "    nonce = 0\n",
        "    while True:\n",
        "        test_string = f'{names}{nonce}'.encode('utf-8')\n",
        "        hash_result = hashlib.sha256(test_string).hexdigest()\n",
        "        if hash_result.endswith('0' * target_zeros):\n",
        "            print(f\"Chaîne trouvée: {test_string.decode('utf-8')} -> {hash_result}\")\n",
        "            break\n",
        "        nonce += 1\n",
        "\n",
        "# Utilisation de la fonction avec un exemple\n",
        "names = 'RaphaelVeron'\n",
        "target_zeros = 5\n",
        "find_string_with_sha256_ending_zeros(names, target_zeros)"
      ]
    },
    {
      "cell_type": "markdown",
      "metadata": {
        "id": "UByVjXXNfREg"
      },
      "source": [
        "## Deuxième partie."
      ]
    },
    {
      "cell_type": "code",
      "execution_count": null,
      "metadata": {
        "colab": {
          "base_uri": "https://localhost:8080/"
        },
        "id": "G6vOq6X8fUgq",
        "outputId": "a5dc7621-9e7f-4f5a-bd78-d31468406abe"
      },
      "outputs": [
        {
          "name": "stdout",
          "output_type": "stream",
          "text": [
            "Temps moyen pour 5 zéros: 0.15275588035583496 secondes\n",
            "Temps moyen pour 6 zéros: 14.430744743347168 secondes\n",
            "Rapport du temps pour (n+1) / n: 94.46932392868726\n"
          ]
        }
      ],
      "source": [
        "import time\n",
        "import hashlib\n",
        "\n",
        "def time_to_find_zeros(names, target_zeros=5, trials=5):\n",
        "    \"\"\"\n",
        "    Mesure le temps moyen nécessaire pour obtenir un hash se terminant par n zéros,\n",
        "    puis pour (n+1) zéros, et calcule le rapport des deux temps.\n",
        "    \"\"\"\n",
        "    def find_zeros(target_zeros):\n",
        "        nonce = 0\n",
        "        start_time = time.time()\n",
        "        while True:\n",
        "            test_string = f'{names}{nonce}'.encode('utf-8')\n",
        "            hash_result = hashlib.sha256(test_string).hexdigest()\n",
        "            if hash_result.endswith('0' * target_zeros):\n",
        "                return time.time() - start_time\n",
        "            nonce += 1\n",
        "\n",
        "    time_n = sum(find_zeros(target_zeros) for _ in range(trials)) / trials\n",
        "    time_n_plus_1 = sum(find_zeros(target_zeros + 1) for _ in range(trials)) / trials\n",
        "\n",
        "    print(f\"Temps moyen pour {target_zeros} zéros: {time_n} secondes\")\n",
        "    print(f\"Temps moyen pour {target_zeros + 1} zéros: {time_n_plus_1} secondes\")\n",
        "    print(f\"Rapport du temps pour (n+1) / n: {time_n_plus_1 / time_n}\")\n",
        "\n",
        "# Utilisation de la fonction avec un exemple\n",
        "names = 'RaphaelVeron'\n",
        "target_zeros = 5\n",
        "trials = 5\n",
        "time_to_find_zeros(names, target_zeros, trials)\n"
      ]
    },
    {
      "cell_type": "markdown",
      "metadata": {
        "id": "K5Tcukz_fYDI"
      },
      "source": [
        "# Exercice 2"
      ]
    },
    {
      "cell_type": "markdown",
      "metadata": {
        "id": "bQigC63Kujw7"
      },
      "source": [
        "## Étape 1: Chiffrement OpenSSL AES-256 CTR"
      ]
    },
    {
      "cell_type": "markdown",
      "metadata": {
        "id": "RZU_FUapu6f1"
      },
      "source": []
    },
    {
      "cell_type": "code",
      "execution_count": null,
      "metadata": {
        "id": "Qu7s7kZMujjp"
      },
      "outputs": [],
      "source": [
        "openssl enc -aes-256-ctr -pbkdf2 -salt -in monTexte.txt -out monTexte.enc -k monMotDePasse\n"
      ]
    },
    {
      "cell_type": "markdown",
      "metadata": {
        "id": "Fk-BCA8Nus1k"
      },
      "source": [
        "## Étape 2: Chiffrement ElGamal de 𝑁"
      ]
    },
    {
      "cell_type": "code",
      "execution_count": null,
      "metadata": {
        "id": "9NHRlZgQuwEL"
      },
      "outputs": [],
      "source": [
        "import random\n",
        "\n",
        "def pgcd(a, b):\n",
        "    while b:\n",
        "        a, b = b, a % b\n",
        "    return a\n",
        "\n",
        "def trouver_k_coprime(p):\n",
        "    k = random.randint(2, p - 2)\n",
        "    while pgcd(k, p - 1) != 1:\n",
        "        k = random.randint(2, p - 2)\n",
        "    return k\n",
        "\n",
        "def generer_cles_elgamal(p, g):\n",
        "    x = random.randint(2, p - 2)  # Génération de la clé privée\n",
        "    A = pow(g, x, p)  # Calcul de la clé publique A = g^x mod p\n",
        "    return x, A  # Retourne la clé privée et la clé publique\n",
        "\n",
        "def chiffrement_elgamal(N, p, g):\n",
        "    x, A = generer_cles_elgamal(p, g)\n",
        "    k = trouver_k_coprime(p)\n",
        "    B = pow(g, k, p)\n",
        "    s = pow(A, k, p)\n",
        "    C = (N * s) % p\n",
        "    print(\"Clé privée (x):\", x)\n",
        "    print(\"Clé publique (A):\", A)\n",
        "    print(\"B:\", B)\n",
        "    print(\"C:\", C)\n"
      ]
    },
    {
      "cell_type": "markdown",
      "metadata": {
        "id": "obxCBmo-EhY_"
      },
      "source": [
        "test"
      ]
    },
    {
      "cell_type": "code",
      "execution_count": null,
      "metadata": {
        "colab": {
          "base_uri": "https://localhost:8080/"
        },
        "id": "cdP4K6wnEici",
        "outputId": "de23f241-e427-4c41-906b-daa10e733e60"
      },
      "outputs": [
        {
          "name": "stdout",
          "output_type": "stream",
          "text": [
            "Clé privée (x): 3334761106309143621309121\n",
            "Clé publique (A): 3644597538307122694882225\n",
            "B: 4372155850158119335074090\n",
            "C: 5126045165226968199505997\n"
          ]
        }
      ],
      "source": [
        "p = 7946851324679854613245823\n",
        "g = 5\n",
        "\n",
        "N = 354265170000756431  # Exemple basé sur votre description\n",
        "chiffrement_elgamal(N, p, g)"
      ]
    },
    {
      "cell_type": "markdown",
      "metadata": {
        "id": "hWLjKvIsvMlv"
      },
      "source": [
        "1. La fonction trouver_k_coprime génère un k aléatoire qui est coprime avec p−1, c'est-à-dire que k et p−1 ont un PGCD de 1. Cela est nécessaire pour que k soit valide dans le chiffrement ElGamal.\n",
        "\n",
        "2. pow(base, exp, mod) est utilisé pour le calcul modulaire efficace de base^exp mod mod.\n",
        "\n",
        "3. Ce code utilise une approche très simplifiée et n'intègre pas les aspects de sécurité importants tels que le choix sécurisé de k. Dans une implémentation réelle de cryptographie, il est crucial d'utiliser des méthodes cryptographiquement sécurisées pour générer k et traiter les données."
      ]
    },
    {
      "cell_type": "markdown",
      "metadata": {
        "id": "cJ3blWzj0pBm"
      },
      "source": [
        "## Étape 3: Déchiffrement ElGamal de 𝑁"
      ]
    },
    {
      "cell_type": "code",
      "execution_count": null,
      "metadata": {
        "colab": {
          "base_uri": "https://localhost:8080/"
        },
        "id": "hk2EIWalDeCZ",
        "outputId": "81c6b7a8-6ed4-4035-8ef2-058a4244be61"
      },
      "outputs": [
        {
          "name": "stdout",
          "output_type": "stream",
          "text": [
            "Message déchiffré: 354265170000756431\n"
          ]
        }
      ],
      "source": [
        "def dechiffrement_elgamal(B, C, p, x):\n",
        "    \"\"\"\n",
        "    Déchiffre un message C chiffré avec ElGamal.\n",
        "\n",
        "    :param B: Partie B du message chiffré.\n",
        "    :param C: Partie C du message chiffré (le message réellement chiffré).\n",
        "    :param p: Le nombre premier utilisé pour le chiffrement ElGamal.\n",
        "    :param x: La clé privée correspondant à la clé publique A utilisée pour le chiffrement.\n",
        "    :return: Le message déchiffré N.\n",
        "    \"\"\"\n",
        "    s_inv = pow(B, p-1-x, p)  # Calcule l'inverse de s = B^x mod p\n",
        "    N = (C * s_inv) % p  # Calcule N = C * s^-1 mod p pour obtenir le message déchiffré\n",
        "    return N\n",
        "\n"
      ]
    },
    {
      "cell_type": "markdown",
      "metadata": {
        "id": "PmRFqvAcEd0G"
      },
      "source": [
        "TEST :"
      ]
    },
    {
      "cell_type": "code",
      "execution_count": null,
      "metadata": {
        "colab": {
          "base_uri": "https://localhost:8080/"
        },
        "id": "Sd3zRKuWEb_u",
        "outputId": "07335cc8-acdb-4ef5-8d6c-c4acd5ae51a8"
      },
      "outputs": [
        {
          "name": "stdout",
          "output_type": "stream",
          "text": [
            "Message déchiffré: 354265170000756431\n"
          ]
        }
      ],
      "source": [
        "\n",
        "# Exemple d'utilisation:\n",
        "p = 7946851324679854613245823\n",
        "# La clé privée x doit être connue, elle est nécessaire pour le déchiffrement\n",
        "x = 4574622722378040049760828\n",
        "B = 5306592376829635731063413  # Utilisez les valeurs B et C obtenues lors du chiffrement\n",
        "C = 1337481536066283451780629\n",
        "\n",
        "# Déchiffrement du message\n",
        "N_dechiffre = dechiffrement_elgamal(B, C, p, x)\n",
        "print(\"Message déchiffré:\", N_dechiffre)"
      ]
    },
    {
      "cell_type": "markdown",
      "metadata": {
        "id": "L8sv_lSrEoLK"
      },
      "source": [
        "# Nous pouvons proposer une méthode de chiffrement plus compléte"
      ]
    },
    {
      "cell_type": "markdown",
      "metadata": {
        "id": "98QWXKfYq5kt"
      },
      "source": [
        "## Chiffrement"
      ]
    },
    {
      "cell_type": "code",
      "execution_count": null,
      "metadata": {
        "id": "5BdYxOfofbUL"
      },
      "outputs": [],
      "source": [
        "from cryptography.hazmat.primitives.ciphers import Cipher, algorithms, modes\n",
        "from cryptography.hazmat.backends import default_backend\n",
        "from cryptography.hazmat.primitives import hashes\n",
        "from cryptography.hazmat.primitives.kdf.pbkdf2 import PBKDF2HMAC\n",
        "import os\n",
        "\n",
        "def aes_ctr_encryption(input_text, password, salt,iv):\n",
        "    \"\"\"\n",
        "    Chiffre un texte en utilisant AES-256 en mode CTR avec PBKDF2 pour la dérivation de clé.\n",
        "    Retourne le texte chiffré et le vecteur d'initialisation utilisé.\n",
        "    \"\"\"\n",
        "    # Génération de la clé à partir du mot de passe\n",
        "    backend = default_backend()\n",
        "    kdf = PBKDF2HMAC(\n",
        "        algorithm=hashes.SHA256(),\n",
        "        length=32,\n",
        "        salt=salt,\n",
        "        iterations=100000,\n",
        "        backend=backend\n",
        "    )\n",
        "    key = kdf.derive(password.encode())\n",
        "\n",
        "    # Initialisation du chiffreur AES en mode CTR et sauvegarde de l'IV\n",
        "\n",
        "    cipher = Cipher(algorithms.AES(key), modes.CTR(iv), backend=backend)\n",
        "    encryptor = cipher.encryptor()\n",
        "\n",
        "    # Chiffrement du texte\n",
        "    ct = encryptor.update(input_text.encode()) + encryptor.finalize()\n",
        "    print(f\"Texte chiffré (hex): {ct.hex()}\")\n",
        "    print(f\"Vecteur d'initialisation (hex): {iv.hex()}\")\n",
        "    return ct, iv  # Retourne à la fois le texte chiffré et l'IV utilisé\n",
        "\n",
        "\n"
      ]
    },
    {
      "cell_type": "markdown",
      "metadata": {
        "id": "duGfYSYwRndU"
      },
      "source": [
        "TEST\n"
      ]
    },
    {
      "cell_type": "code",
      "execution_count": null,
      "metadata": {
        "colab": {
          "base_uri": "https://localhost:8080/"
        },
        "id": "7juDyuP9RpQs",
        "outputId": "ad8226b7-91cb-4261-9052-cb9d6091d2f3"
      },
      "outputs": [
        {
          "name": "stdout",
          "output_type": "stream",
          "text": [
            "Texte chiffré (hex): 65dfbb1171b2ae3bdbd83452b7469be2a735c0aa839d62794887e180b585ef0976a2b40b9cac8e1686\n",
            "Vecteur d'initialisation (hex): 6a49d5be1decdfe4341ddf5cfab2e3d9\n"
          ]
        }
      ],
      "source": [
        "# Exemple d'utilisation de la fonction mise à jour\n",
        "iv =  b'\\x6a\\x49\\xd5\\xbe\\x1d\\xec\\xdf\\xe4\\x34\\x1d\\xdf\\x5c\\xfa\\xb2\\xe3\\xd9'\n",
        "input_text = \"Ceci est un exemple de texte à chiffrer.\"\n",
        "password = \"123456789\"\n",
        "salt = b'bonjour'\n",
        "encrypted_text, iv_used_for_encryption = aes_ctr_encryption(input_text, password, salt,iv)\n"
      ]
    },
    {
      "cell_type": "markdown",
      "metadata": {
        "id": "fP1nlrTwq2yz"
      },
      "source": [
        "## Déchiffrement"
      ]
    },
    {
      "cell_type": "code",
      "execution_count": null,
      "metadata": {
        "id": "NzthnrzIq0ho"
      },
      "outputs": [],
      "source": [
        "def aes_ctr_decryption(encrypted_text_hex, password, salt, iv):\n",
        "    \"\"\"\n",
        "    Déchiffre un texte chiffré en utilisant AES-256 en mode CTR avec PBKDF2 pour la dérivation de clé.\n",
        "    Utilise le même mot de passe, sel (salt), et vecteur d'initialisation (IV) que pour le chiffrement.\n",
        "\n",
        "    :param encrypted_text_hex: Le texte chiffré à déchiffrer, sous forme de chaîne hexadécimale.\n",
        "    :param password: Le mot de passe utilisé pour générer la clé de chiffrement.\n",
        "    :param salt: Le sel utilisé avec le mot de passe pour générer la clé de chiffrement.\n",
        "    :param iv: Le vecteur d'initialisation utilisé pour le chiffrement.\n",
        "    :return: Le texte déchiffré.\n",
        "    \"\"\"\n",
        "    # Conversion du texte chiffré hexadécimal en données binaires\n",
        "    encrypted_text = bytes.fromhex(encrypted_text_hex)\n",
        "\n",
        "    backend = default_backend()\n",
        "    kdf = PBKDF2HMAC(\n",
        "        algorithm=hashes.SHA256(),\n",
        "        length=32,\n",
        "        salt=salt,\n",
        "        iterations=100000,\n",
        "        backend=backend\n",
        "    )\n",
        "    key = kdf.derive(password.encode())\n",
        "\n",
        "    cipher = Cipher(algorithms.AES(key), modes.CTR(iv), backend=backend)\n",
        "    decryptor = cipher.decryptor()\n",
        "\n",
        "    decrypted_text = decryptor.update(encrypted_text) + decryptor.finalize()\n",
        "    return decrypted_text.decode('utf-8', errors='ignore')  # Utilise errors='ignore' pour ignorer les erreurs de décodage\n",
        "\n"
      ]
    },
    {
      "cell_type": "markdown",
      "metadata": {
        "id": "Yvzmgu0kUsD2"
      },
      "source": [
        "test"
      ]
    },
    {
      "cell_type": "code",
      "execution_count": null,
      "metadata": {
        "colab": {
          "base_uri": "https://localhost:8080/"
        },
        "id": "jGLGSgnRUr0K",
        "outputId": "4a2d8e7b-3572-46f5-b3ed-45cbcfbd3b15"
      },
      "outputs": [
        {
          "name": "stdout",
          "output_type": "stream",
          "text": [
            "Texte déchiffré: Ceci est un exemple de texte à chiffrer.\n"
          ]
        }
      ],
      "source": [
        "# Utilisation de la fonction de déchiffrement\n",
        "password = \"123456789\"\n",
        "salt = b'bonjour'  # Utilisez le même sel que celui utilisé pour le chiffrement\n",
        "iv = b'\\x6a\\x49\\xd5\\xbe\\x1d\\xec\\xdf\\xe4\\x34\\x1d\\xdf\\x5c\\xfa\\xb2\\xe3\\xd9'  # Assurez-vous d'utiliser l'IV correct sous forme de bytes\n",
        "encrypted_text_hex = \"65dfbb1171b2ae3bdbd83452b7469be2a735c0aa839d62794887e180b585ef0976a2b40b9cac8e1686\"\n",
        "decrypted_text = aes_ctr_decryption(encrypted_text_hex, password, salt, iv)\n",
        "print(f\"Texte déchiffré: {decrypted_text}\")\n"
      ]
    },
    {
      "cell_type": "markdown",
      "metadata": {
        "id": "J9Wy3Lqkfv9W"
      },
      "source": [
        "# Exercice 3."
      ]
    },
    {
      "cell_type": "markdown",
      "metadata": {
        "id": "yGHepefpfxxx"
      },
      "source": [
        "## Première partie: Démonstration de la signature ElGamal"
      ]
    },
    {
      "cell_type": "markdown",
      "metadata": {
        "id": "x7O3MyPYf4rJ"
      },
      "source": [
        "La signature ElGamal est un système de signature numérique qui est basé sur le problème du logarithme discret.\n",
        "Pour générer une signature sur un message, on procède comme suit:\n",
        "1. Choix d'un nombre premier p et d'un générateur g d'un groupe cyclique de Z/pZ.\n",
        "2. Choix d'une clé privée x par l'émetteur, et calcul de la clé publique y = g^x mod p.\n",
        "3. Pour signer un message m, l'émetteur choisit un k aléatoire coprime avec p-1, et calcule r = g^k mod p.\n",
        "4. L'émetteur calcule ensuite s tel que m = x*r + k*s mod (p-1).\n",
        "5. La signature du message m est le couple (r, s).\n",
        "\n",
        "Pour vérifier la signature, le récepteur utilise la clé publique y pour s'assurer que g^m mod p = y^r * r^s mod p.\n",
        "Si l'égalité est vérifiée, alors la signature est valide."
      ]
    },
    {
      "cell_type": "markdown",
      "metadata": {
        "id": "cW43-6eyf561"
      },
      "source": [
        "## Deuxième partie: Exemple d'application"
      ]
    },
    {
      "cell_type": "markdown",
      "metadata": {
        "id": "vmmltR9tf-wd"
      },
      "source": [
        "Un exemple d'application de la cryptographie dans la vie réelle est l'utilisation de HTTPS pour sécuriser les communications sur Internet.\n",
        "HTTPS utilise TLS (Transport Layer Security) qui emploie des algorithmes de cryptographie asymétrique pour l'échange de clés (comme RSA ou Diffie-Hellman) et de cryptographie symétrique pour le chiffrement des données (comme AES).\n",
        "Cela permet de s'assurer que les données échangées entre le navigateur de l'utilisateur et le serveur web sont chiffrées, protégeant ainsi contre les écoutes indiscrètes et les attaques de type man-in-the-middle.\n"
      ]
    },
    {
      "cell_type": "markdown",
      "metadata": {
        "id": "wKxn9i3LkD7E"
      },
      "source": [
        "## MAIN FONCTION : On définis un main pour appeler les fonctions que l'on souhaites et testé ce que l'on veut\n"
      ]
    },
    {
      "cell_type": "code",
      "execution_count": null,
      "metadata": {
        "colab": {
          "background_save": true,
          "base_uri": "https://localhost:8080/"
        },
        "id": "1gfGJ8vhj5hN",
        "outputId": "73b61bf9-fa0b-44e2-ec6d-6be961ce14eb"
      },
      "outputs": [
        {
          "name": "stdout",
          "output_type": "stream",
          "text": [
            "\n",
            "Choisissez une fonction:\n",
            "1: find_string_with_sha256_ending_zeros\n",
            "2: time_to_find_zeros\n",
            "3: aes_ctr_encryption\n",
            "4: Déchiffrement AES CTR\n",
            "5: Chiffrement ElGamal de 𝑁\n",
            "6: Déchiffrement ElGamal de 𝑁\n",
            "7: Quitter\n"
          ]
        }
      ],
      "source": [
        "def main():\n",
        "    p = 7946851324679854613245823\n",
        "    g = 5\n",
        "\n",
        "\n",
        "    salt = b'bonjour'\n",
        "    iv = os.urandom(16)\n",
        "\n",
        "    while True:\n",
        "        print(\"\\nChoisissez une fonction:\")\n",
        "        print(\"1: find_string_with_sha256_ending_zeros\")\n",
        "        print(\"2: time_to_find_zeros\")\n",
        "        print(\"3: aes_ctr_encryption\")\n",
        "        print(\"4: Déchiffrement AES CTR\")\n",
        "        print(\"5: Chiffrement ElGamal de 𝑁\")\n",
        "        print(\"6: Déchiffrement ElGamal de 𝑁\")\n",
        "        print(\"7: Quitter\")\n",
        "        choice = input(\"Votre choix : \")\n",
        "\n",
        "        if choice == '1':\n",
        "            names = input(\"Entrez les noms: \")\n",
        "            target_zeros = int(input(\"Entrez le nombre de zéros cibles: \"))\n",
        "            find_string_with_sha256_ending_zeros(names, target_zeros)\n",
        "            pass\n",
        "\n",
        "        elif choice == '2':\n",
        "            names = input(\"Entrez les noms: \")\n",
        "            target_zeros = int(input(\"Entrez le nombre de zéros cibles: \"))\n",
        "            trials = int(input(\"Entrez le nombre d'essais: \"))\n",
        "            time_to_find_zeros(names, target_zeros, trials)\n",
        "            pass\n",
        "\n",
        "        elif choice == '3':\n",
        "            mode = input(\"Voulez-vous entrer le texte manuellement (m) ou utiliser un fichier (f) ? (m/f): \")\n",
        "            password = input(\"Entrez le mot de passe : \")  # Il est préférable de demander le mot de passe avant de choisir entre manuel et fichier\n",
        "            if mode.lower() == 'm':\n",
        "                input_text = input(\"Entrez le texte à chiffrer: \")\n",
        "            elif mode.lower() == 'f':\n",
        "                file_path = input(\"Entrez le chemin du fichier à chiffrer: \")\n",
        "                try:\n",
        "                    with open(file_path, 'r', encoding='utf-8') as file:\n",
        "                        input_text = file.read()\n",
        "                except FileNotFoundError:\n",
        "                    print(\"Fichier non trouvé. Assurez-vous que le chemin est correct.\")\n",
        "                    return\n",
        "                except Exception as e:\n",
        "                    print(f\"Une erreur est survenue lors de la lecture du fichier: {e}\")\n",
        "                    return\n",
        "            else:\n",
        "                print(\"Choix non valide.\")\n",
        "                return\n",
        "            # Appel à la fonction aes_ctr_encryption avec les variables correctement définies\n",
        "            encrypted_text, iv = aes_ctr_encryption(input_text, password, salt, iv)  # La fonction doit retourner le texte chiffré et l'IV\n",
        "            pass\n",
        "\n",
        "        elif choice == '4':\n",
        "            encrypted_text_hex = input(\"Entrez le texte chiffré (en hexadécimal) : \")\n",
        "            password = input(\"Entrez le mot de passe : \")\n",
        "            # Utilisez le même salt et le même iv que ceux utilisés pour le chiffrement\n",
        "            salt = b'bonjour'\n",
        "            iv = b'\\x6a\\x49\\xd5\\xbe\\x1d\\xec\\xdf\\xe4\\x34\\x1d\\xdf\\x5c\\xfa\\xb2\\xe3\\xd9'\n",
        "            decrypted_text = aes_ctr_decryption(encrypted_text_hex, password, salt, iv)\n",
        "            print(f\"Texte déchiffré: {decrypted_text}\")\n",
        "            pass\n",
        "\n",
        "        elif choice == '5':\n",
        "            N = int(input(\"Entrez le nombre N à chiffrer : \"))\n",
        "            chiffrement_elgamal(N, p, g)\n",
        "            pass\n",
        "\n",
        "        elif choice == '6':\n",
        "            x = int(input(\"Entrez la clé privée x : \"))\n",
        "            B = int(input(\"Entrez la partie B du message chiffré : \"))\n",
        "            C = int(input(\"Entrez la partie C du message chiffré : \"))\n",
        "            N_dechiffre = dechiffrement_elgamal(B, C, p, x)\n",
        "            print(f\"Message déc123hiffré : {N_dechiffre}\")\n",
        "            pass\n",
        "\n",
        "        elif choice == '7':\n",
        "            print(\"Au revoir!\")\n",
        "            break\n",
        "\n",
        "\n",
        "        else:\n",
        "                print(\"Choix non valide. Veuillez réessayer.\")\n",
        "\n",
        "                # Demander à l'utilisateur s'il souhaite effectuer une autre opération\n",
        "        continuer = input(\"\\nVoulez-vous effectuer une autre opération ? (oui/non) : \")\n",
        "        if continuer.lower() != 'oui':\n",
        "            print(\"Au revoir!\")\n",
        "            break\n",
        "\n",
        "if __name__ == \"__main__\":\n",
        "    main()"
      ]
    },
    {
      "cell_type": "markdown",
      "metadata": {
        "id": "A48nWuPqKd6m"
      },
      "source": [
        "Entrez le nombre N à chiffrer : 354265170000756431  \n",
        "Clé privée (x): 3225388602036651519028090\n",
        "Clé publique (A): 4939783228691804329549996\n",
        "B: 2581305696278121567553318\n",
        "C: 4463318798022436691221647"
      ]
    },
    {
      "cell_type": "code",
      "execution_count": null,
      "metadata": {
        "id": "6bR5JJJ5GbXL"
      },
      "outputs": [],
      "source": []
    }
  ],
  "metadata": {
    "colab": {
      "provenance": []
    },
    "kernelspec": {
      "display_name": "Python 3",
      "name": "python3"
    },
    "language_info": {
      "name": "python"
    }
  },
  "nbformat": 4,
  "nbformat_minor": 0
}